{
 "cells": [
  {
   "cell_type": "code",
   "execution_count": 2,
   "id": "6bcfba9d",
   "metadata": {},
   "outputs": [],
   "source": [
    "import cv2\n",
    "v=cv2.VideoCapture(0)\n",
    "while True:\n",
    "    ret,frame1=v.read()\n",
    "    cv2.imshow('video',frame1)\n",
    "    if cv2.waitKey(1)==ord('q'):\n",
    "        break\n",
    "v.release()\n",
    "cv2.destroyAllWindows()"
   ]
  },
  {
   "cell_type": "code",
   "execution_count": null,
   "id": "d284883d",
   "metadata": {},
   "outputs": [],
   "source": []
  }
 ],
 "metadata": {
  "kernelspec": {
   "display_name": "Python 3 (ipykernel)",
   "language": "python",
   "name": "python3"
  },
  "language_info": {
   "codemirror_mode": {
    "name": "ipython",
    "version": 3
   },
   "file_extension": ".py",
   "mimetype": "text/x-python",
   "name": "python",
   "nbconvert_exporter": "python",
   "pygments_lexer": "ipython3",
   "version": "3.8.12"
  }
 },
 "nbformat": 4,
 "nbformat_minor": 5
}
