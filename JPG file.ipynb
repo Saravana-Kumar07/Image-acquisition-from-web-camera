{
 "cells": [
  {
   "cell_type": "code",
   "execution_count": null,
   "id": "ba8d4d0c",
   "metadata": {},
   "outputs": [],
   "source": [
    "import cv2\n",
    "v=cv2.VideoCapture(0)\n",
    "while True:\n",
    "    ret,frame1=v.read()\n",
    "    cv2.imwrite('IMG.jpg',frame1)\n",
    "    if cv2.waitKey(1)==ord('q'):\n",
    "        break\n",
    "v.release()\n",
    "cv2.destroyAllWindows()   "
   ]
  },
  {
   "cell_type": "code",
   "execution_count": null,
   "id": "db408623",
   "metadata": {},
   "outputs": [],
   "source": []
  },
  {
   "cell_type": "code",
   "execution_count": null,
   "id": "2b89bcb5",
   "metadata": {},
   "outputs": [],
   "source": []
  }
 ],
 "metadata": {
  "kernelspec": {
   "display_name": "Python 3 (ipykernel)",
   "language": "python",
   "name": "python3"
  },
  "language_info": {
   "codemirror_mode": {
    "name": "ipython",
    "version": 3
   },
   "file_extension": ".py",
   "mimetype": "text/x-python",
   "name": "python",
   "nbconvert_exporter": "python",
   "pygments_lexer": "ipython3",
   "version": "3.8.12"
  }
 },
 "nbformat": 4,
 "nbformat_minor": 5
}
